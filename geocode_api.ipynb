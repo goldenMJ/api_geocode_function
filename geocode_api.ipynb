{
 "cells": [
  {
   "cell_type": "markdown",
   "metadata": {},
   "source": [
    "# What the heck is an API?"
   ]
  },
  {
   "cell_type": "markdown",
   "metadata": {},
   "source": [
    "According to Wikipedia, an API (acronym for application programming interface) is an interface or communication protocol between ... ugh, a swear, I was pumped up at API but got turned off at protocol. Booorrring, what's for dinner. Seriously, I'm busy, you got exactly 5 seconds before I swipe left. \n",
    "\n"
   ]
  },
  {
   "cell_type": "markdown",
   "metadata": {},
   "source": [
    "# Getting *What is an API* crossed of our to-do lists: "
   ]
  },
  {
   "cell_type": "markdown",
   "metadata": {},
   "source": [
    "As mentioned, API stand for Application Programming Interfaces. "
   ]
  },
  {
   "cell_type": "markdown",
   "metadata": {},
   "source": [
    "To put it simply, an API allows us to establish a link between two different types of software to facilitate the exchange of data. In our example below, we write a function in python that links to google's geocode API to get the coordinates of a given city. \n"
   ]
  },
  {
   "cell_type": "markdown",
   "metadata": {},
   "source": [
    "# Python Script -- making a request"
   ]
  },
  {
   "cell_type": "code",
   "execution_count": 32,
   "metadata": {},
   "outputs": [],
   "source": [
    "# dependencies \n",
    "import json\n",
    "import httplib2"
   ]
  },
  {
   "cell_type": "code",
   "execution_count": 33,
   "metadata": {},
   "outputs": [],
   "source": [
    "def getgoogleLoc(input_string):\n",
    "    key = \"ENTER YOUR KEY HERE!\"\n",
    "    location_string = input_string.replace(\" \", \"+\")\n",
    "    url = ('https://maps.googleapis.com/maps/api/geocode/json?address=%s&key=%s'% (\n",
    "    location_string, key))\n",
    "    h = httplib2.Http()\n",
    "    response, content = h. request(url, 'GET')\n",
    "    result = json.loads(content)\n",
    "    return result"
   ]
  },
  {
   "cell_type": "code",
   "execution_count": 29,
   "metadata": {},
   "outputs": [],
   "source": [
    "dallas = getgoogleLoc(\"Dallas, Texas\")"
   ]
  },
  {
   "cell_type": "code",
   "execution_count": 30,
   "metadata": {},
   "outputs": [
    {
     "name": "stdout",
     "output_type": "stream",
     "text": [
      "{'results': [{'address_components': [{'long_name': 'Dallas', 'short_name': 'Dallas', 'types': ['locality', 'political']}, {'long_name': 'Dallas County', 'short_name': 'Dallas County', 'types': ['administrative_area_level_2', 'political']}, {'long_name': 'Texas', 'short_name': 'TX', 'types': ['administrative_area_level_1', 'political']}, {'long_name': 'United States', 'short_name': 'US', 'types': ['country', 'political']}], 'formatted_address': 'Dallas, TX, USA', 'geometry': {'bounds': {'northeast': {'lat': 33.0237921, 'lng': -96.4637379}, 'southwest': {'lat': 32.617537, 'lng': -96.999347}}, 'location': {'lat': 32.7766642, 'lng': -96.79698789999999}, 'location_type': 'APPROXIMATE', 'viewport': {'northeast': {'lat': 33.0237921, 'lng': -96.4637379}, 'southwest': {'lat': 32.617537, 'lng': -96.999347}}}, 'place_id': 'ChIJS5dFe_cZTIYRj2dH9qSb7Lk', 'types': ['locality', 'political']}], 'status': 'OK'}\n"
     ]
    }
   ],
   "source": [
    "print(dallas)"
   ]
  },
  {
   "cell_type": "markdown",
   "metadata": {},
   "source": [
    "# Ok, kind of messy, right!? Let's parse through these JSON responses. "
   ]
  },
  {
   "cell_type": "code",
   "execution_count": 35,
   "metadata": {},
   "outputs": [
    {
     "data": {
      "text/plain": [
       "dict_keys(['results', 'status'])"
      ]
     },
     "execution_count": 35,
     "metadata": {},
     "output_type": "execute_result"
    }
   ],
   "source": [
    "# navigate through the keys of the JSON response like a python dic.\n",
    "dallas.keys()"
   ]
  },
  {
   "cell_type": "code",
   "execution_count": 36,
   "metadata": {},
   "outputs": [
    {
     "data": {
      "text/plain": [
       "[{'address_components': [{'long_name': 'Dallas',\n",
       "    'short_name': 'Dallas',\n",
       "    'types': ['locality', 'political']},\n",
       "   {'long_name': 'Dallas County',\n",
       "    'short_name': 'Dallas County',\n",
       "    'types': ['administrative_area_level_2', 'political']},\n",
       "   {'long_name': 'Texas',\n",
       "    'short_name': 'TX',\n",
       "    'types': ['administrative_area_level_1', 'political']},\n",
       "   {'long_name': 'United States',\n",
       "    'short_name': 'US',\n",
       "    'types': ['country', 'political']}],\n",
       "  'formatted_address': 'Dallas, TX, USA',\n",
       "  'geometry': {'bounds': {'northeast': {'lat': 33.0237921, 'lng': -96.4637379},\n",
       "    'southwest': {'lat': 32.617537, 'lng': -96.999347}},\n",
       "   'location': {'lat': 32.7766642, 'lng': -96.79698789999999},\n",
       "   'location_type': 'APPROXIMATE',\n",
       "   'viewport': {'northeast': {'lat': 33.0237921, 'lng': -96.4637379},\n",
       "    'southwest': {'lat': 32.617537, 'lng': -96.999347}}},\n",
       "  'place_id': 'ChIJS5dFe_cZTIYRj2dH9qSb7Lk',\n",
       "  'types': ['locality', 'political']}]"
      ]
     },
     "execution_count": 36,
     "metadata": {},
     "output_type": "execute_result"
    }
   ],
   "source": [
    "dallas['results']"
   ]
  },
  {
   "cell_type": "code",
   "execution_count": 37,
   "metadata": {},
   "outputs": [
    {
     "data": {
      "text/plain": [
       "{'lat': 32.7766642, 'lng': -96.79698789999999}"
      ]
     },
     "execution_count": 37,
     "metadata": {},
     "output_type": "execute_result"
    }
   ],
   "source": [
    "# to get lat and lng take zero's index, geometry, and location.\n",
    "dallas['results'][0]['geometry']['location']"
   ]
  },
  {
   "cell_type": "code",
   "execution_count": 38,
   "metadata": {},
   "outputs": [
    {
     "data": {
      "text/plain": [
       "-96.79698789999999"
      ]
     },
     "execution_count": 38,
     "metadata": {},
     "output_type": "execute_result"
    }
   ],
   "source": [
    "# to get lng take zero's index, geometry, and location.\n",
    "dallas['results'][0]['geometry']['location']['lng']"
   ]
  },
  {
   "cell_type": "code",
   "execution_count": 39,
   "metadata": {},
   "outputs": [
    {
     "data": {
      "text/plain": [
       "32.7766642"
      ]
     },
     "execution_count": 39,
     "metadata": {},
     "output_type": "execute_result"
    }
   ],
   "source": [
    "# to get lat take zero's index, geometry, and location.\n",
    "dallas['results'][0]['geometry']['location']['lat']"
   ]
  },
  {
   "cell_type": "code",
   "execution_count": 44,
   "metadata": {},
   "outputs": [],
   "source": [
    "# now go back to our function and modify to get exactly what we want\n",
    "\n",
    "def getgoogleLoc(input_string):\n",
    "    key = \""ENTER YOUR KEY HERE!",
    "    location_string = input_string.replace(\" \", \"+\")\n",
    "    url = ('https://maps.googleapis.com/maps/api/geocode/json?address=%s&key=%s'% (\n",
    "    location_string, key))\n",
    "    h = httplib2.Http()\n",
    "    response, content = h. request(url, 'GET')\n",
    "    result = json.loads(content)\n",
    "    #print response\n",
    "    latitude = result['results'][0]['geometry']['location']['lat']\n",
    "    long = result ['results'][0]['geometry']['location']['lng']\n",
    "    return (latitude, long)"
   ]
  },
  {
   "cell_type": "code",
   "execution_count": 45,
   "metadata": {},
   "outputs": [
    {
     "data": {
      "text/plain": [
       "(32.7766642, -96.79698789999999)"
      ]
     },
     "execution_count": 45,
     "metadata": {},
     "output_type": "execute_result"
    }
   ],
   "source": [
    "getgoogleLoc(\"Dallas, Texas\")"
   ]
  },
  {
   "cell_type": "code",
   "execution_count": null,
   "metadata": {},
   "outputs": [],
   "source": []
  }
 ],
 "metadata": {
  "kernelspec": {
   "display_name": "Python 3",
   "language": "python",
   "name": "python3"
  },
  "language_info": {
   "codemirror_mode": {
    "name": "ipython",
    "version": 3
   },
   "file_extension": ".py",
   "mimetype": "text/x-python",
   "name": "python",
   "nbconvert_exporter": "python",
   "pygments_lexer": "ipython3",
   "version": "3.7.3"
  }
 },
 "nbformat": 4,
 "nbformat_minor": 2
}
